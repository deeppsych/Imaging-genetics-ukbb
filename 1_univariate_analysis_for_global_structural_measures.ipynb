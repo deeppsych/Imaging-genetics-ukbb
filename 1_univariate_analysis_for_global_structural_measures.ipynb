{
 "cells": [
  {
   "cell_type": "code",
   "execution_count": 1,
   "metadata": {},
   "outputs": [],
   "source": [
    "import pandas as pd\n",
    "import numpy as np\n",
    "import os\n",
    "from scipy.stats import pearsonr\n",
    "from sklearn.preprocessing import StandardScaler"
   ]
  },
  {
   "cell_type": "code",
   "execution_count": 2,
   "metadata": {},
   "outputs": [],
   "source": [
    "# load global structural measures\n",
    "global_data = pd.read_csv('raw_data/global_brain_measures.csv').dropna(how='any')"
   ]
  },
  {
   "cell_type": "code",
   "execution_count": 3,
   "metadata": {},
   "outputs": [],
   "source": [
    "# load scanning positions x,y,z\n",
    "pos_data = pd.read_csv('raw_data/scanning_positions.csv').dropna(how='any')\n",
    "# load covariates \n",
    "age_sex = pd.read_csv('raw_data/ukbb_age_sex.csv').dropna(how='any')\n",
    "cols = ['eid']\n",
    "for i in range(25):\n",
    "    cols.append('PC'+str(i+1))\n",
    "PCs = pd.read_csv('raw_data/top_100_PCs.csv')[cols].dropna(how='any')"
   ]
  },
  {
   "cell_type": "code",
   "execution_count": 4,
   "metadata": {},
   "outputs": [],
   "source": [
    "# load PRS data\n",
    "PRS_data = pd.read_csv('raw_data/multi_PRSs.csv')"
   ]
  },
  {
   "cell_type": "code",
   "execution_count": 5,
   "metadata": {},
   "outputs": [],
   "source": [
    "# merge data\n",
    "\n",
    "global_data.set_index('eid',inplace=True)\n",
    "pos_data.set_index('eid',inplace=True)\n",
    "age_sex.set_index('eid',inplace=True)\n",
    "PCs.set_index('eid',inplace=True)\n",
    "PRS_data.set_index('eid',inplace=True)\n",
    "\n",
    "l = list(set(global_data.index) & set(pos_data.index) & set(age_sex.index) & set(PCs.index) & set(PRS_data.index))\n",
    "final_global_measures = global_data.loc[l]\n",
    "final_pos = pos_data.loc[l]\n",
    "final_age_sex = age_sex.loc[l]\n",
    "final_PCs = PCs.loc[l]\n",
    "final_PRSs = PRS_data.loc[l]\n",
    "\n",
    "final_global_measures.reset_index(inplace=True)\n",
    "final_pos.reset_index(inplace=True)\n",
    "final_age_sex.reset_index(inplace=True)\n",
    "final_PCs.reset_index(inplace=True)\n",
    "final_PRSs.reset_index(inplace=True)"
   ]
  },
  {
   "cell_type": "code",
   "execution_count": 6,
   "metadata": {},
   "outputs": [],
   "source": [
    "# create covariates\n",
    "PCs_25 = final_PCs.iloc[:,1:].values\n",
    "age = final_age_sex.iloc[:,2:3].values\n",
    "sex = final_age_sex.iloc[:,1:2].values\n",
    "postions = final_pos.iloc[:,1:].values\n",
    "sex = sex + 1\n",
    "co = np.hstack((PCs_25,age,sex,age*age,age*sex,age*age*sex,postions))"
   ]
  },
  {
   "cell_type": "code",
   "execution_count": 7,
   "metadata": {},
   "outputs": [],
   "source": [
    "# global strutural measures\n",
    "ACT = final_global_measures['ACT'].values\n",
    "TCSA = final_global_measures['TCSA'].values\n",
    "ICV = final_global_measures['ICV'].values"
   ]
  },
  {
   "cell_type": "code",
   "execution_count": 8,
   "metadata": {},
   "outputs": [],
   "source": [
    "def regression_covariant(covariant_matrix, y, standard_scale=False):\n",
    "    a = np.hstack((covariant_matrix,np.ones((covariant_matrix.shape[0], 1))))\n",
    "    w = np.linalg.lstsq(a,y,rcond=None)[0]\n",
    "\n",
    "    residual = y - covariant_matrix.dot(w[:-1])\n",
    "    residual = residual.astype('float64')\n",
    "\n",
    "    if standard_scale:\n",
    "        residual = StandardScaler().fit_transform(residual.reshape(-1,1)).flatten()\n",
    "\n",
    "    return residual, w"
   ]
  },
  {
   "cell_type": "code",
   "execution_count": 9,
   "metadata": {},
   "outputs": [],
   "source": [
    "from scipy import stats\n",
    "\n",
    "def pearsonr_ci(x,y,alpha=0.05):\n",
    "    ''' calculate Pearson correlation along with the confidence interval using scipy and numpy\n",
    "    Parameters\n",
    "    ----------\n",
    "    x, y : iterable object such as a list or np.array\n",
    "      Input for correlation calculation\n",
    "    alpha : float\n",
    "      Significance level. 0.05 by default\n",
    "    Returns\n",
    "    -------\n",
    "    r : float\n",
    "      Pearson's correlation coefficient\n",
    "    pval : float\n",
    "      The corresponding p value\n",
    "    lo, hi : float\n",
    "      The lower and upper bound of confidence intervals\n",
    "    '''\n",
    "\n",
    "    r, p = stats.pearsonr(x,y)\n",
    "    r_z = np.arctanh(r)\n",
    "    se = 1/np.sqrt(x.size-3)\n",
    "    z = stats.norm.ppf(1-alpha/2)\n",
    "    lo_z, hi_z = r_z-z*se, r_z+z*se\n",
    "    lo, hi = np.tanh((lo_z, hi_z))\n",
    "    return r, p, lo, hi"
   ]
  },
  {
   "cell_type": "code",
   "execution_count": 27,
   "metadata": {},
   "outputs": [],
   "source": [
    "X = final_PRSs.iloc[:,1:].values\n",
    "X[:,7] = -X[:,7]\n",
    "X[:,8] = -X[:,8]\n",
    "X[:,11] = -X[:,11]\n",
    "\n",
    "n_traits = X.shape[1]\n",
    "\n",
    "R = np.empty([n_traits,3])\n",
    "P = np.empty([n_traits,3])\n",
    "Low = np.empty([n_traits,3])\n",
    "High = np.empty([n_traits,3])\n",
    "\n",
    "[rTCSA,w] = regression_covariant(co,TCSA,standard_scale=True)\n",
    "[rACT,w] = regression_covariant(co,ACT,standard_scale=True)\n",
    "[rICV,w] = regression_covariant(co,ICV,standard_scale=True)\n",
    "\n",
    "for i in range(n_traits):\n",
    "    x = X[:,i]\n",
    "    [rx,w1] = regression_covariant(co,x,standard_scale=True)\n",
    "    r1,p1,lo1,hi1 = pearsonr_ci(rx, rTCSA)\n",
    "    r2,p2,lo2,hi2 = pearsonr_ci(rx, rACT)\n",
    "    r3,p3,lo3,hi3 = pearsonr_ci(rx, rICV)\n",
    "    R[i,0] = r1\n",
    "    R[i,1] = r2\n",
    "    R[i,2] = r3\n",
    "    P[i,0] = p1\n",
    "    P[i,1] = p2\n",
    "    P[i,2] = p3\n",
    "    Low[i,0] = round(lo1, 4)\n",
    "    Low[i,1] = round(lo2, 4)\n",
    "    Low[i,2] = round(lo3, 4)\n",
    "    High[i,0] = round(hi1, 4)\n",
    "    High[i,1] = round(hi2, 4)\n",
    "    High[i,2] = round(hi3, 4)"
   ]
  },
  {
   "cell_type": "code",
   "execution_count": 28,
   "metadata": {},
   "outputs": [],
   "source": [
    "CIs1 = []\n",
    "CIs2 = []\n",
    "CIs3 = []\n",
    "for i in range(n_traits):\n",
    "    CIs1.append('(' + str(Low[i,0]) + ' , ' + str(High[i,0]) + ')') \n",
    "    CIs2.append('(' + str(Low[i,1]) + ' , ' + str(High[i,1]) + ')') \n",
    "    CIs3.append('(' + str(Low[i,2]) + ' , ' + str(High[i,2]) + ')') "
   ]
  },
  {
   "cell_type": "code",
   "execution_count": 40,
   "metadata": {},
   "outputs": [
    {
     "name": "stderr",
     "output_type": "stream",
     "text": [
      "/data/sliu/anaconda3/lib/python3.7/site-packages/statsmodels/tools/_testing.py:19: FutureWarning: pandas.util.testing is deprecated. Use the functions in the public API at pandas.testing instead.\n",
      "  import pandas.util.testing as tm\n"
     ]
    }
   ],
   "source": [
    "from statsmodels.stats import multitest\n",
    "\n",
    "def fdr_correction(P):\n",
    "    size = P.shape\n",
    "    temp_p = P.flatten()\n",
    "    Ps = multitest.multipletests(temp_p,alpha=0.05,method='fdr_bh')\n",
    "    P_corrected = Ps[1].reshape(size)\n",
    "    return P_corrected"
   ]
  },
  {
   "cell_type": "code",
   "execution_count": 41,
   "metadata": {},
   "outputs": [],
   "source": [
    "re_cols = ['TCSA','ACT','ICV']\n",
    "re_R = pd.DataFrame(data=R,columns=re_cols)\n",
    "re_R.to_csv('results/global_structural_measures/re_R.csv',index=False)\n",
    "re_P = pd.DataFrame(data=P,columns=re_cols)\n",
    "re_P.to_csv('results/global_structural_measures/re_P.csv',index=False)\n",
    "correct_P = fdr_correction(P)\n",
    "re_P_corrected = pd.DataFrame(data=correct_P,columns=re_cols)\n",
    "re_P_corrected.to_csv('results/global_structural_measures/re_P_corrected.csv',index=False)"
   ]
  },
  {
   "cell_type": "code",
   "execution_count": 29,
   "metadata": {},
   "outputs": [],
   "source": [
    "CI_data = pd.DataFrame(data=CIs1,columns=['TCSA'])\n",
    "CI_data['ACT'] = CIs2\n",
    "CI_data['ICV'] = CIs3\n",
    "CI_data.to_csv('results/global_structural_measures/CIs.csv',index=False)"
   ]
  }
 ],
 "metadata": {
  "kernelspec": {
   "display_name": "Python 3",
   "language": "python",
   "name": "python3"
  },
  "language_info": {
   "codemirror_mode": {
    "name": "ipython",
    "version": 3
   },
   "file_extension": ".py",
   "mimetype": "text/x-python",
   "name": "python",
   "nbconvert_exporter": "python",
   "pygments_lexer": "ipython3",
   "version": "3.7.3"
  }
 },
 "nbformat": 4,
 "nbformat_minor": 2
}
